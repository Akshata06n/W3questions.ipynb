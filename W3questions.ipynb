{
  "nbformat": 4,
  "nbformat_minor": 0,
  "metadata": {
    "colab": {
      "provenance": [],
      "collapsed_sections": []
    },
    "kernelspec": {
      "name": "python3",
      "display_name": "Python 3"
    },
    "language_info": {
      "name": "python"
    }
  },
  "cells": [
    {
      "cell_type": "markdown",
      "source": [
        "1-Twinkle Twinkle"
      ],
      "metadata": {
        "id": "r5p3KYOgMdvy"
      }
    },
    {
      "cell_type": "code",
      "source": [
        "print(\"Twinkle, twinkle, little star, \\n\\tHow I wonder what you are! \\n\\t\\tUp above the world so high, \\n\\t\\tLike a diamond in the sky. \\nTwinkle, twinkle, little star, \\n\\tHow I wonder what you are!\")\n"
      ],
      "metadata": {
        "colab": {
          "base_uri": "https://localhost:8080/"
        },
        "id": "s2_z2YjSMhx-",
        "outputId": "62cf80cd-8c8d-43a5-d112-c3bd02ecf7d7"
      },
      "execution_count": 1,
      "outputs": [
        {
          "output_type": "stream",
          "name": "stdout",
          "text": [
            "Twinkle, twinkle, little star, \n",
            "\tHow I wonder what you are! \n",
            "\t\tUp above the world so high, \n",
            "\t\tLike a diamond in the sky. \n",
            "Twinkle, twinkle, little star, \n",
            "\tHow I wonder what you are!\n"
          ]
        }
      ]
    },
    {
      "cell_type": "markdown",
      "source": [
        "2- Check Version"
      ],
      "metadata": {
        "id": "9NAKOVqoMkLN"
      }
    },
    {
      "cell_type": "code",
      "source": [
        "import platform\n",
        "print(platform.python_version())"
      ],
      "metadata": {
        "colab": {
          "base_uri": "https://localhost:8080/"
        },
        "id": "g7M47NhTMpr5",
        "outputId": "da1b466f-3993-4387-9716-c1dd483f6769"
      },
      "execution_count": 2,
      "outputs": [
        {
          "output_type": "stream",
          "name": "stdout",
          "text": [
            "3.7.13\n"
          ]
        }
      ]
    },
    {
      "cell_type": "markdown",
      "source": [
        "3- Display the current date and time."
      ],
      "metadata": {
        "id": "BykEtTa5Mq8e"
      }
    },
    {
      "cell_type": "code",
      "source": [
        "import datetime\n",
        "now = datetime.datetime.now()\n",
        "print(now)\n"
      ],
      "metadata": {
        "colab": {
          "base_uri": "https://localhost:8080/"
        },
        "id": "UqovWgVaMvyG",
        "outputId": "8fbbdc78-45ce-478a-fc90-b5c09ba1f39f"
      },
      "execution_count": 3,
      "outputs": [
        {
          "output_type": "stream",
          "name": "stdout",
          "text": [
            "2022-09-06 14:27:56.376619\n"
          ]
        }
      ]
    },
    {
      "cell_type": "markdown",
      "source": [
        "4. Write a Python program which accepts the radius of a circle from the \n",
        "user and compute the area. Go to the editor\n"
      ],
      "metadata": {
        "id": "7pKQkgImM38E"
      }
    },
    {
      "cell_type": "code",
      "source": [
        "x = float(input())\n",
        "area = 3.14*(x**2)\n",
        "print(area)"
      ],
      "metadata": {
        "colab": {
          "base_uri": "https://localhost:8080/"
        },
        "id": "cnA5uvXSM8tt",
        "outputId": "62c44f06-9659-444f-fe20-5b4447f7fc05"
      },
      "execution_count": 5,
      "outputs": [
        {
          "output_type": "stream",
          "name": "stdout",
          "text": [
            "5\n",
            "78.5\n"
          ]
        }
      ]
    },
    {
      "cell_type": "markdown",
      "source": [
        "5-Write a Python program which accepts the user's first and last name and print them in reverse order with a space between them. Go to the editor"
      ],
      "metadata": {
        "id": "NC3ThjK_NCX1"
      }
    },
    {
      "cell_type": "code",
      "source": [
        "f_name = input()\n",
        "l_name = input()\n",
        "print(l_name + \" \" + f_name)"
      ],
      "metadata": {
        "id": "CbF3foHNNEW9"
      },
      "execution_count": null,
      "outputs": []
    },
    {
      "cell_type": "markdown",
      "source": [
        "6-Write a Python program which accepts a sequence of comma-separated numbers from user and generate a list and a tuple with those numbers. Go to the editor"
      ],
      "metadata": {
        "id": "rsXX1gF4NLGp"
      }
    },
    {
      "cell_type": "code",
      "source": [
        "values = input(\"values separted by comma\")\n",
        "list = values.split(\",\")\n",
        "tuple = tuple(list)\n",
        "print(list)\n",
        "print(tuple)"
      ],
      "metadata": {
        "id": "xRQaeXopNSjA"
      },
      "execution_count": null,
      "outputs": []
    },
    {
      "cell_type": "markdown",
      "source": [
        "7-Write a Python program to accept a filename from the user and print the extension of that.\n",
        " Sample filename : abc.java Output : java"
      ],
      "metadata": {
        "id": "8kaVoxXpNWNT"
      }
    },
    {
      "cell_type": "code",
      "source": [
        "x = input()\n",
        "y =x.split(\".\")\n",
        "print(y[0])"
      ],
      "metadata": {
        "id": "6e9S85thNbL5"
      },
      "execution_count": null,
      "outputs": []
    },
    {
      "cell_type": "markdown",
      "source": [
        "8-Write a Python program to display the first and last colors from the following list. Go to the editor\n",
        "color_list = [\"Red\",\"Green\",\"White\" ,\"Black\"]"
      ],
      "metadata": {
        "id": "1KLr6eL8NdoR"
      }
    },
    {
      "cell_type": "code",
      "source": [
        "color_list = [\"Red\",\"Green\",\"White\" ,\"Black\"]\n",
        "print(color_list[0] + ' ,' + color_list[-1])"
      ],
      "metadata": {
        "id": "Y23uU2hiNlIy"
      },
      "execution_count": null,
      "outputs": []
    },
    {
      "cell_type": "markdown",
      "source": [
        "9. Write a Python program to display the examination schedule. (extract the date from exam_st_date). Go to the editor"
      ],
      "metadata": {
        "id": "lCki1-zXNo8U"
      }
    },
    {
      "cell_type": "code",
      "source": [
        "exam_st_date = (11, 12, 2014)\n",
        "print(\"The examination will start from {0}/{1}/{2}\".format(11, 12, 2014))"
      ],
      "metadata": {
        "id": "lG-cYFXONtCV"
      },
      "execution_count": null,
      "outputs": []
    },
    {
      "cell_type": "markdown",
      "source": [
        "10-Write a Python program that accepts an integer (n) and computes the value of n+nn+nnn. Go to the editor Sample value of n is 5 Expected Result : 615"
      ],
      "metadata": {
        "id": "waclDElGNwcW"
      }
    },
    {
      "cell_type": "code",
      "source": [
        "a = int(input(\"Input an integer : \"))\n",
        "n1 = int( \"%s\" % a )\n",
        "n2 = int( \"%s%s\" % (a,a) )\n",
        "n3 = int( \"%s%s%s\" % (a,a,a) )\n",
        "print (n1+n2+n3)"
      ],
      "metadata": {
        "id": "eA3_-SgRN00b"
      },
      "execution_count": null,
      "outputs": []
    },
    {
      "cell_type": "markdown",
      "source": [
        "11-Write a Python program to print the documents (syntax, description etc.) of Python built-in function(s). Sample function : abs() Expected Result : abs(number) -> number Return the absolute value of the argument."
      ],
      "metadata": {
        "id": "BYx2Pm4CN5gk"
      }
    },
    {
      "cell_type": "code",
      "source": [
        "print(abs.__doc__)"
      ],
      "metadata": {
        "id": "SyHdpYKQN8W5"
      },
      "execution_count": null,
      "outputs": []
    },
    {
      "cell_type": "markdown",
      "source": [
        "12-Write a Python program to print the calendar of a given month and year.\n",
        "Note : Use 'calendar' module."
      ],
      "metadata": {
        "id": "0RXXIp7oN_lA"
      }
    },
    {
      "cell_type": "code",
      "source": [
        "import calendar\n",
        "y = int(input(\"Input the year : \"))\n",
        "m = int(input(\"Input the month : \"))\n",
        "print(calendar.month(y, m))\n",
        "\n",
        "print(calendar.month(2020,7))"
      ],
      "metadata": {
        "id": "zMZ9yD9wOEQF"
      },
      "execution_count": null,
      "outputs": []
    },
    {
      "cell_type": "markdown",
      "source": [
        "13-\n",
        "Write a Python program to print the following 'here document'. Go to the editor Sample string : a string that you \"don't\" have to escape This is a ....... multi-line heredoc string --------> example"
      ],
      "metadata": {
        "id": "bR2dE3UwOHdg"
      }
    },
    {
      "cell_type": "code",
      "source": [
        "print('''a string that you \"don't\" have to escape\n",
        "This\n",
        "is a ....... multi-line\n",
        "heredoc string --------> example''')"
      ],
      "metadata": {
        "id": "71kJyjxGOLFX"
      },
      "execution_count": null,
      "outputs": []
    },
    {
      "cell_type": "markdown",
      "source": [
        "14-Write a Python program to calculate number of days between two dates. Sample dates : (2014, 7, 2), (2014, 7, 11) Expected output : 9 days"
      ],
      "metadata": {
        "id": "Dgct1NK0ONUX"
      }
    },
    {
      "cell_type": "code",
      "source": [
        "from datetime import date\n",
        "f_date = date(2014, 7, 2)\n",
        "l_date = date(2022, 7, 11)\n",
        "delta = l_date - f_date\n",
        "print(delta.days)"
      ],
      "metadata": {
        "id": "sZ1R6wREOP5e"
      },
      "execution_count": null,
      "outputs": []
    },
    {
      "cell_type": "markdown",
      "source": [
        "15-\n",
        "Write a Python program to get the volume of a sphere with radius 6."
      ],
      "metadata": {
        "id": "ki_rrs-3OTFY"
      }
    },
    {
      "cell_type": "code",
      "source": [
        "x = (4/3)* 3.14*(6**3)\n",
        "print(x)"
      ],
      "metadata": {
        "id": "AehOwj_ZOVr2"
      },
      "execution_count": null,
      "outputs": []
    },
    {
      "cell_type": "markdown",
      "source": [
        "16-Write a Python program to get the difference between a given number and 17, if the number is greater than 17 return double the absolute difference. "
      ],
      "metadata": {
        "id": "md1mXGx2OXvx"
      }
    },
    {
      "cell_type": "code",
      "source": [
        "x = int(input())\n",
        "y = 17 - x\n",
        "if x > 17: \n",
        "  print(abs(y*2))"
      ],
      "metadata": {
        "id": "Ftv-HspWOcZv"
      },
      "execution_count": null,
      "outputs": []
    },
    {
      "cell_type": "markdown",
      "source": [
        "17. Write a Python program to test whether a number is within 100 of 1000 or 2000"
      ],
      "metadata": {
        "id": "CVki67r2Ofao"
      }
    },
    {
      "cell_type": "code",
      "source": [
        "def near_thousand(n):\n",
        "      return ((abs(1000 - n) <= 100) or (abs(2000 - n) <= 100))\n",
        "print(near_thousand(1000))\n",
        "print(near_thousand(900))\n",
        "print(near_thousand(800))   \n",
        "print(near_thousand(2200))"
      ],
      "metadata": {
        "id": "THN5FtZ5OkO3"
      },
      "execution_count": null,
      "outputs": []
    },
    {
      "cell_type": "markdown",
      "source": [
        "18-Write a Python program to calculate the sum of three given numbers, if the values are equal then return three times of their sum. Go to the editor"
      ],
      "metadata": {
        "id": "nKX6-Js-Onv_"
      }
    },
    {
      "cell_type": "code",
      "source": [
        "x, y, z = int(input()),int(input()),int(input())\n",
        "a = x + y + z\n",
        "if x == y == z :\n",
        "  print(3*a)"
      ],
      "metadata": {
        "id": "Q-dw0xzhOq7_"
      },
      "execution_count": null,
      "outputs": []
    },
    {
      "cell_type": "markdown",
      "source": [
        "19-Write a Python program to get a new string from a given string where \"Is\" has been added to the front. If the given string already begins with \"Is\" then return the string unchanged."
      ],
      "metadata": {
        "id": "iFJhvLcJOt_v"
      }
    },
    {
      "cell_type": "code",
      "source": [
        "def new_string(str):\n",
        "  if len(str) >= 2 and str[:2] == \"Is\":\n",
        "    return str\n",
        "  return \"Is\" + str\n",
        "\n",
        "print(new_string(\"Array\"))\n",
        "print(new_string(\"IsEmpty\"))"
      ],
      "metadata": {
        "id": "ZRPGGByFOw7Y"
      },
      "execution_count": null,
      "outputs": []
    },
    {
      "cell_type": "markdown",
      "source": [
        "20. Write a Python program to get a string which is n (non-negative integer) copies of a given string."
      ],
      "metadata": {
        "id": "fd87nY-WO0l1"
      }
    },
    {
      "cell_type": "code",
      "source": [
        "def larger_string(str, n):\n",
        "   result = \"\"\n",
        "   for i in range(n):\n",
        "      result = result + str\n",
        "   return result\n",
        "\n",
        "print(larger_string('aksh', 2))\n",
        "print(larger_string('.py', 3))"
      ],
      "metadata": {
        "id": "3cwHQRHHO3CB"
      },
      "execution_count": null,
      "outputs": []
    },
    {
      "cell_type": "markdown",
      "source": [
        "Write a Python program to find whether a given number (accept from the user) is even or odd, print out an appropriate message to the user. Go to the editor"
      ],
      "metadata": {
        "id": "b8CdLu11O5bW"
      }
    },
    {
      "cell_type": "code",
      "source": [
        "x = int(input())\n",
        "if x % 2 == 0:\n",
        "  print('even')\n",
        "else:\n",
        "  print(\"odd\")"
      ],
      "metadata": {
        "id": "RXI4cw9gO8gH"
      },
      "execution_count": null,
      "outputs": []
    },
    {
      "cell_type": "markdown",
      "source": [
        "22. Write a Python program to count the number 4 in a given list."
      ],
      "metadata": {
        "id": "n2n5GaYRO_X-"
      }
    },
    {
      "cell_type": "code",
      "source": [
        "def list_count_4(nums):\n",
        "  count = 0  \n",
        "  for num in nums:\n",
        "    if num == 4:\n",
        "      count = count + 1\n",
        "\n",
        "  return count\n",
        "\n",
        "print(list_count_4([1, 4, 6, 7, 4]))"
      ],
      "metadata": {
        "id": "Onc9i7APPEHf"
      },
      "execution_count": null,
      "outputs": []
    },
    {
      "cell_type": "markdown",
      "source": [
        "23- Write a Python program to get the n (non-negative integer) copies of the first 2 characters of a given string. Return the n copies of the whole string if the length is less than 2"
      ],
      "metadata": {
        "id": "0PXVOWDiPIA2"
      }
    },
    {
      "cell_type": "code",
      "source": [
        "string = input()\n",
        "copy = int(input())\n",
        "str_copy = \"\"\n",
        "\n",
        "if len(string) < 2:\n",
        "  print(string*copy)\n",
        "else: \n",
        "  print(string[:1]*copy)"
      ],
      "metadata": {
        "id": "ce3rROgyPMrj"
      },
      "execution_count": null,
      "outputs": []
    },
    {
      "cell_type": "markdown",
      "source": [
        "24-Write a Python program to test whether a passed letter is a vowel or not."
      ],
      "metadata": {
        "id": "oc0k6FcMPQQB"
      }
    },
    {
      "cell_type": "code",
      "source": [
        "x = input()\n",
        "if x in ('a','e','i','o','u'):\n",
        "  print('vowel')"
      ],
      "metadata": {
        "id": "uPqJ_o95PT0c"
      },
      "execution_count": null,
      "outputs": []
    },
    {
      "cell_type": "markdown",
      "source": [
        "25-Write a Python program to check whether a specified value is contained in a group of values"
      ],
      "metadata": {
        "id": "xln2KvqRPYI1"
      }
    },
    {
      "cell_type": "code",
      "source": [
        "def check_grp(list,n):\n",
        "  for value in list:\n",
        "    if value == n:\n",
        "      return True\n",
        "    else:\n",
        "      return False\n",
        "\n",
        "print(check_grp([1,2,3,4],4))"
      ],
      "metadata": {
        "id": "5qz42Q0YPcCs"
      },
      "execution_count": null,
      "outputs": []
    },
    {
      "cell_type": "markdown",
      "source": [
        "26-Write a Python program to create a histogram from a given list of integers."
      ],
      "metadata": {
        "id": "lr3eH_VzPeW2"
      }
    },
    {
      "cell_type": "code",
      "source": [
        "def histogram( items ):\n",
        "    for n in items:\n",
        "        output = ''\n",
        "        times = n\n",
        "        while( times > 0 ):\n",
        "          output += '*'\n",
        "          times = times - 1\n",
        "        print(output)\n",
        "\n",
        "histogram([2, 3, 6, 5])"
      ],
      "metadata": {
        "id": "Sk85VkpjPiPS"
      },
      "execution_count": null,
      "outputs": []
    },
    {
      "cell_type": "markdown",
      "source": [
        "27-Write a Python program to concatenate all elements in a list into a string and return it. "
      ],
      "metadata": {
        "id": "hIfH8xWQPm3x"
      }
    },
    {
      "cell_type": "code",
      "source": [
        "def list_str(list,str):\n",
        "  string = ''\n",
        "  for values in list:\n",
        "    string = values + string\n",
        "    return string\n",
        "\n",
        "print(def list_str(['aksh','aksj'],s))"
      ],
      "metadata": {
        "id": "vzVO1OuNNi1d"
      },
      "execution_count": null,
      "outputs": []
    },
    {
      "cell_type": "markdown",
      "source": [
        "28-Write a Python program to print all even numbers from a given numbers list in the same order and stop the printing if any numbers that come after 237 in the sequence."
      ],
      "metadata": {
        "id": "tTOj8kLOP5PY"
      }
    },
    {
      "cell_type": "code",
      "source": [
        "numbers = [\n",
        "386, 462, 47, 418, 907, 344, 236, 375, 823, 566, 597, 978, 328, 615, 953, 345, 399, 162, 758, 219, 918, 237, 412, 566, 826, 248, 866, 950, 626, 949, 687, 217, 815, 67, 104, 58, 512, 24, 892, 894, 767, 553, 81, 379, 843, 831, 445, 742, 717, 958,743, 527 ]\n",
        "\n",
        "for num in numbers:\n",
        "  if num% 2 == 0:\n",
        "    print(num)\n",
        "  elif num == 237:\n",
        "    break"
      ],
      "metadata": {
        "id": "VW5J8Lp3P9id"
      },
      "execution_count": null,
      "outputs": []
    },
    {
      "cell_type": "markdown",
      "source": [
        "29- Write a Python program to print out a set containing all the colors from color_list_1 which are not present in color_list_2. Go to the editor Test Data : color_list_1 = set([\"White\", \"Black\", \"Red\"]) color_list_2 = set([\"Red\", \"Green\"]) Expected Output : {'Black', 'White'}"
      ],
      "metadata": {
        "id": "dIlofoC8QAFv"
      }
    },
    {
      "cell_type": "code",
      "source": [
        "color_list_1 = set([\"White\", \"Black\", \"Red\"]) \n",
        "color_list_2 = set([\"Red\", \"Green\"])\n",
        "\n",
        "print(color_list_1 - color_list_2)"
      ],
      "metadata": {
        "id": "GNgDkIQxQEes"
      },
      "execution_count": null,
      "outputs": []
    },
    {
      "cell_type": "markdown",
      "source": [
        "30-Write a Python program that will accept the base and height of a triangle and compute the area. "
      ],
      "metadata": {
        "id": "KhGiOnpKQHtK"
      }
    },
    {
      "cell_type": "code",
      "source": [
        "b = int(input())\n",
        "h = int(input())\n",
        "\n",
        "area = 0.5 * b * h\n",
        "print(area)"
      ],
      "metadata": {
        "id": "70-isnEiQLMF"
      },
      "execution_count": null,
      "outputs": []
    },
    {
      "cell_type": "markdown",
      "source": [
        "31-Write a Python program to compute the greatest common divisor (GCD) of two positive integers. Go to the editor Click me to see the sample solution"
      ],
      "metadata": {
        "id": "l4drW9rOQOBD"
      }
    },
    {
      "cell_type": "code",
      "source": [
        "import math\n",
        "\n",
        "x = int(input())\n",
        "y = int(input())\n",
        "\n",
        "print(math.gcd(x,y))"
      ],
      "metadata": {
        "id": "HtcQ_wdcQRpv"
      },
      "execution_count": null,
      "outputs": []
    },
    {
      "cell_type": "markdown",
      "source": [
        "32-Write a Python program to get the least common multiple (LCM) of two positive integers."
      ],
      "metadata": {
        "id": "RnL-959nQUOj"
      }
    },
    {
      "cell_type": "code",
      "source": [],
      "metadata": {
        "id": "qwchK1zFQYda"
      },
      "execution_count": null,
      "outputs": []
    }
  ]
}